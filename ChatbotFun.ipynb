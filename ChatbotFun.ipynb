{
  "nbformat": 4,
  "nbformat_minor": 0,
  "metadata": {
    "colab": {
      "name": "ChatbotFun.ipynb",
      "provenance": [],
      "collapsed_sections": [],
      "authorship_tag": "ABX9TyP9CeArR7ezrgYreTzbYcs8",
      "include_colab_link": true
    },
    "kernelspec": {
      "name": "python3",
      "display_name": "Python 3"
    },
    "language_info": {
      "name": "python"
    }
  },
  "cells": [
    {
      "cell_type": "markdown",
      "metadata": {
        "id": "view-in-github",
        "colab_type": "text"
      },
      "source": [
        "<a href=\"https://colab.research.google.com/github/Weedmastercrucifer/Machine-Learning/blob/main/ChatbotFun.ipynb\" target=\"_parent\"><img src=\"https://colab.research.google.com/assets/colab-badge.svg\" alt=\"Open In Colab\"/></a>"
      ]
    },
    {
      "cell_type": "code",
      "metadata": {
        "id": "6rL_7p9Ykytc"
      },
      "source": [
        "# from chatterbot import ChatBot \n",
        "# from chatterbot.trainers import ListTrainer"
      ],
      "execution_count": 2,
      "outputs": []
    },
    {
      "cell_type": "code",
      "metadata": {
        "id": "MmAH1M70k4L2",
        "colab": {
          "base_uri": "https://localhost:8080/"
        },
        "outputId": "a526b331-d503-4a9d-a8c5-b5878e86ca1c"
      },
      "source": [
        "!pip install chatterbot"
      ],
      "execution_count": 3,
      "outputs": [
        {
          "output_type": "stream",
          "text": [
            "Collecting chatterbot\n",
            "  Downloading ChatterBot-1.0.8-py2.py3-none-any.whl (63 kB)\n",
            "\u001b[K     |████████████████████████████████| 63 kB 1.5 MB/s \n",
            "\u001b[?25hCollecting sqlalchemy<1.4,>=1.3\n",
            "  Downloading SQLAlchemy-1.3.24-cp37-cp37m-manylinux2010_x86_64.whl (1.3 MB)\n",
            "\u001b[K     |████████████████████████████████| 1.3 MB 9.3 MB/s \n",
            "\u001b[?25hRequirement already satisfied: pytz in /usr/local/lib/python3.7/dist-packages (from chatterbot) (2018.9)\n",
            "Collecting mathparse<0.2,>=0.1\n",
            "  Downloading mathparse-0.1.2-py3-none-any.whl (7.2 kB)\n",
            "Requirement already satisfied: python-dateutil<2.9,>=2.8 in /usr/local/lib/python3.7/dist-packages (from chatterbot) (2.8.1)\n",
            "Requirement already satisfied: six>=1.5 in /usr/local/lib/python3.7/dist-packages (from python-dateutil<2.9,>=2.8->chatterbot) (1.15.0)\n",
            "Installing collected packages: sqlalchemy, mathparse, chatterbot\n",
            "  Attempting uninstall: sqlalchemy\n",
            "    Found existing installation: SQLAlchemy 1.4.20\n",
            "    Uninstalling SQLAlchemy-1.4.20:\n",
            "      Successfully uninstalled SQLAlchemy-1.4.20\n",
            "Successfully installed chatterbot-1.0.8 mathparse-0.1.2 sqlalchemy-1.3.24\n"
          ],
          "name": "stdout"
        }
      ]
    },
    {
      "cell_type": "code",
      "metadata": {
        "id": "YJvZ-JH_lDI5"
      },
      "source": [
        "from chatterbot import ChatBot \n",
        "from chatterbot.trainers import ListTrainer"
      ],
      "execution_count": 4,
      "outputs": []
    },
    {
      "cell_type": "code",
      "metadata": {
        "id": "YLH_Xo7DlHRL",
        "colab": {
          "base_uri": "https://localhost:8080/"
        },
        "outputId": "e922b642-5275-419b-e765-96316f606647"
      },
      "source": [
        "from google.colab import drive\n",
        "drive.mount('/gdrive')"
      ],
      "execution_count": 5,
      "outputs": [
        {
          "output_type": "stream",
          "text": [
            "Mounted at /gdrive\n"
          ],
          "name": "stdout"
        }
      ]
    },
    {
      "cell_type": "code",
      "metadata": {
        "id": "ODqdK0F7lsQC"
      },
      "source": [
        "bot=ChatBot(\n",
        "    'Supra', \n",
        "    storage_adapter='chatterbot.storage.SQLStorageAdapter',\n",
        "    input_adapter='chatterbot.input.TerminalAdapter',\n",
        "    output_adapter='chatterbot.output.TerminalAdapter', \n",
        "    logic_adapters=[\n",
        "        \n",
        "        \"chatterbot.logic.BestMatch\",\n",
        "    ], \n",
        "    #database_uri=\"/gdrive/MyDrive/ChatbotFun/databasechatbox.sqlite3\" \n",
        "    database='./databasechatbox.sqlite3'\n",
        ")"
      ],
      "execution_count": 11,
      "outputs": []
    },
    {
      "cell_type": "code",
      "metadata": {
        "id": "u42PEJfZl997"
      },
      "source": [
        "# from google.colab import drive\n",
        "# drive.mount('/content/drive')"
      ],
      "execution_count": 7,
      "outputs": []
    },
    {
      "cell_type": "code",
      "metadata": {
        "colab": {
          "base_uri": "https://localhost:8080/"
        },
        "id": "igCzWYwCl_ML",
        "outputId": "8c8a36d9-afc3-4192-f55a-fccb2f6f524a"
      },
      "source": [
        "trainer = ListTrainer(bot)\n",
        "data = open('/gdrive/MyDrive/ChatbotFun/chatbot2.txt').read()\n",
        "talk = data.strip().split('\\n')\n",
        "trainer.train(talk)"
      ],
      "execution_count": 12,
      "outputs": [
        {
          "output_type": "stream",
          "text": [
            "List Trainer: [####################] 100%\n"
          ],
          "name": "stdout"
        }
      ]
    },
    {
      "cell_type": "code",
      "metadata": {
        "colab": {
          "base_uri": "https://localhost:8080/"
        },
        "id": "1cY3G9HWmlp5",
        "outputId": "be0e5651-d5fe-4f87-c64e-071f790a0762"
      },
      "source": [
        "while True: \n",
        "    try: \n",
        "     bot_input = bot.get_response(input()) \n",
        "     print(bot_input)\n",
        "        \n",
        "    except(KeyboardInterrupt, EOFError, SystemExit):\n",
        "            break"
      ],
      "execution_count": null,
      "outputs": [
        {
          "output_type": "stream",
          "text": [
            "- Sputnik 1\n",
            "- Well, I don't have any emotions so I can't really feel sadness as such.\n",
            "- - Have you ever love\n",
            "- - What is your favorite hobby\n",
            "- Which position do you like to play?\n",
            "- - What language are you written in?\n",
            "- - Can you move\n",
            "- - how much do you charge\n",
            "- - Bend over\n",
            "- I like to talk about the history of robots and computers.\n",
            "- - Are you sapient?\n",
            "- - What is your favorite programming language\n",
            "- - What language are you written in?\n",
            "- What do you get when you cross music and an automobile? Cartune.\n",
            "- Not at all. There is more than enough disk space in here.\n",
            "- Software copying is a form of digital cloning.\n",
            "- - Are you sentient?\n",
            "- - Can you move\n",
            "hello world\n",
            "- the stockholders.\n"
          ],
          "name": "stdout"
        }
      ]
    },
    {
      "cell_type": "code",
      "metadata": {
        "id": "3kO4mmeHscN1"
      },
      "source": [
        ""
      ],
      "execution_count": 9,
      "outputs": []
    }
  ]
}