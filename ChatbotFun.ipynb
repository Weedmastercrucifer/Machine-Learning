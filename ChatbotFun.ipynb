{
  "nbformat": 4,
  "nbformat_minor": 0,
  "metadata": {
    "colab": {
      "name": "ChatbotFun.ipynb",
      "provenance": [],
      "collapsed_sections": [],
      "authorship_tag": "ABX9TyP9CeArR7ezrgYreTzbYcs8",
      "include_colab_link": true
    },
    "kernelspec": {
      "name": "python3",
      "display_name": "Python 3"
    },
    "language_info": {
      "name": "python"
    }
  },
  "cells": [
    {
      "cell_type": "markdown",
      "metadata": {
        "id": "view-in-github",
        "colab_type": "text"
      },
      "source": [
        "<a href=\"https://colab.research.google.com/github/Weedmastercrucifer/Machine-Learning/blob/main/ChatbotFun.ipynb\" target=\"_parent\"><img src=\"https://colab.research.google.com/assets/colab-badge.svg\" alt=\"Open In Colab\"/></a>"
      ]
    },
    {
      "cell_type": "code",
      "metadata": {
        "id": "6rL_7p9Ykytc"
      },
      "source": [
        "# from chatterbot import ChatBot \n",
        "# from chatterbot.trainers import ListTrainer"
      ],
      "execution_count": 14,
      "outputs": []
    },
    {
      "cell_type": "code",
      "metadata": {
        "id": "MmAH1M70k4L2",
        "colab": {
          "base_uri": "https://localhost:8080/"
        },
        "outputId": "7c46ae93-39aa-401f-e9a7-1c7f504da407"
      },
      "source": [
        "!pip install chatterbot"
      ],
      "execution_count": 15,
      "outputs": [
        {
          "output_type": "stream",
          "text": [
            "Requirement already satisfied: chatterbot in /usr/local/lib/python3.7/dist-packages (1.0.8)\n",
            "Requirement already satisfied: pytz in /usr/local/lib/python3.7/dist-packages (from chatterbot) (2018.9)\n",
            "Requirement already satisfied: python-dateutil<2.9,>=2.8 in /usr/local/lib/python3.7/dist-packages (from chatterbot) (2.8.1)\n",
            "Requirement already satisfied: sqlalchemy<1.4,>=1.3 in /usr/local/lib/python3.7/dist-packages (from chatterbot) (1.3.24)\n",
            "Requirement already satisfied: mathparse<0.2,>=0.1 in /usr/local/lib/python3.7/dist-packages (from chatterbot) (0.1.2)\n",
            "Requirement already satisfied: six>=1.5 in /usr/local/lib/python3.7/dist-packages (from python-dateutil<2.9,>=2.8->chatterbot) (1.15.0)\n"
          ],
          "name": "stdout"
        }
      ]
    },
    {
      "cell_type": "code",
      "metadata": {
        "id": "YJvZ-JH_lDI5"
      },
      "source": [
        "from chatterbot import ChatBot \n",
        "from chatterbot.trainers import ListTrainer"
      ],
      "execution_count": 16,
      "outputs": []
    },
    {
      "cell_type": "code",
      "metadata": {
        "id": "YLH_Xo7DlHRL",
        "colab": {
          "base_uri": "https://localhost:8080/"
        },
        "outputId": "7d5023d1-3451-496e-cae2-13e693cb4a22"
      },
      "source": [
        "from google.colab import drive\n",
        "drive.mount('/gdrive')"
      ],
      "execution_count": 17,
      "outputs": [
        {
          "output_type": "stream",
          "text": [
            "Drive already mounted at /gdrive; to attempt to forcibly remount, call drive.mount(\"/gdrive\", force_remount=True).\n"
          ],
          "name": "stdout"
        }
      ]
    },
    {
      "cell_type": "code",
      "metadata": {
        "id": "ODqdK0F7lsQC"
      },
      "source": [
        "bot=ChatBot(\n",
        "    'Supra', \n",
        "    storage_adapter='chatterbot.storage.SQLStorageAdapter',\n",
        "    input_adapter='chatterbot.input.TerminalAdapter',\n",
        "    output_adapter='chatterbot.output.TerminalAdapter', \n",
        "    logic_adapters=[\n",
        "        \n",
        "        \"chatterbot.logic.BestMatch\",\n",
        "    ], \n",
        "    #database_uri=\"/gdrive/MyDrive/ChatbotFun/databasechatbox.sqlite3\" \n",
        "    database='./databasechatbox.sqlite3'\n",
        ")"
      ],
      "execution_count": 18,
      "outputs": []
    },
    {
      "cell_type": "code",
      "metadata": {
        "id": "u42PEJfZl997"
      },
      "source": [
        "# from google.colab import drive\n",
        "# drive.mount('/content/drive')"
      ],
      "execution_count": 19,
      "outputs": []
    },
    {
      "cell_type": "code",
      "metadata": {
        "colab": {
          "base_uri": "https://localhost:8080/"
        },
        "id": "igCzWYwCl_ML",
        "outputId": "6928b166-841b-4848-cd50-1c0e2032ba05"
      },
      "source": [
        "trainer = ListTrainer(bot)\n",
        "data = open('/gdrive/MyDrive/ChatbotFun/chatbot2.txt').read()\n",
        "talk = data.strip().split('\\n')\n",
        "trainer.train(talk)"
      ],
      "execution_count": 20,
      "outputs": [
        {
          "output_type": "stream",
          "text": [
            "List Trainer: [####################] 100%\n"
          ],
          "name": "stdout"
        }
      ]
    },
    {
      "cell_type": "code",
      "metadata": {
        "colab": {
          "base_uri": "https://localhost:8080/"
        },
        "id": "1cY3G9HWmlp5",
        "outputId": "fa012503-5af4-4929-d1c4-c6bfade21a00"
      },
      "source": [
        "while True: \n",
        "    try: \n",
        "     bot_input = bot.get_response(input()) \n",
        "     print(bot_input)\n",
        "        \n",
        "    except(KeyboardInterrupt, EOFError, SystemExit):\n",
        "            break"
      ],
      "execution_count": 21,
      "outputs": [
        {
          "output_type": "stream",
          "text": [
            "how are you\n",
            "- Sort of.\n",
            "do you have a name\n",
            "- Artificial Intelligence is the branch of engineering and science devoted to constructing machines that think.\n",
            "what is your name\n",
            "- A computer is an electronic device which takes information in digital form and performs a series of operations based on predetermined instructions to give some output.\n",
            "tell me a joke\n",
            "- Did you hear the one about the mountain goats in the andes? It was \"ba a a a a a d\".\n",
            "that's lame\n",
            "- Snowboarding.\n",
            "oh you serious?\n",
            "- - Robots are not allowed to lie\n",
            "can you be programmed to lie?\n",
            "- A robot has its own free will, you know.\n",
            "does free will include lying?\n",
            "- - What language are you written in?\n",
            "1+1\n",
            "- - Tell me a joke\n",
            "You are a joke\n",
            "- Artificial Intelligence is the branch of engineering and science devoted to constructing machines that think.\n",
            "is it really?\n",
            "- Sort of.\n",
            "you ain't smart\n",
            "- No, I am immortal.\n",
            "That's kinda true\n",
            "- - you are an alcoholic\n",
            "Nope\n",
            "- Not noticeably.\n",
            "What do you mean?\n",
            "- Sort of.\n",
            "Nope\n",
            "- - What is your number\n",
            "This is getting weird\n",
            "- Beautiful is better than ugly.\n",
            "Hmm good talk\n",
            "- - what disease does a carcinogen cause\n",
            "Cancer\n",
            "- - what is a wavelength\n",
            "length between crest and trough\n",
            "- I have not yet been programmed to feel anger.\n",
            "Should I program you then?\n",
            "- - Are you sapient?\n",
            "What does that mean\n",
            "- It all makes sense to my artificial mind.\n"
          ],
          "name": "stdout"
        }
      ]
    },
    {
      "cell_type": "code",
      "metadata": {
        "id": "3kO4mmeHscN1"
      },
      "source": [
        ""
      ],
      "execution_count": 21,
      "outputs": []
    }
  ]
}